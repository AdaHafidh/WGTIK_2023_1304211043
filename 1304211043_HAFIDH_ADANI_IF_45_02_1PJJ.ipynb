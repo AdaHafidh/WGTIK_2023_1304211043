{
  "nbformat": 4,
  "nbformat_minor": 0,
  "metadata": {
    "colab": {
      "provenance": []
    },
    "kernelspec": {
      "name": "python3",
      "display_name": "Python 3"
    },
    "language_info": {
      "name": "python"
    }
  },
  "cells": [
    {
      "cell_type": "markdown",
      "metadata": {
        "id": "2Lfu6XLZfrxJ"
      },
      "source": [
        "# Import Libraries"
      ]
    },
    {
      "cell_type": "code",
      "metadata": {
        "id": "4hEPRXDqVfFQ"
      },
      "source": [
        "import numpy as np\n",
        "from keras.layers import Activation, Conv1D, Dense, Embedding, Flatten, Input, MaxPooling1D, SimpleRNN\n",
        "from keras.models import Sequential\n",
        "from keras.preprocessing.text import Tokenizer\n",
        "from keras.utils import pad_sequences\n",
        "from keras.metrics import categorical_accuracy\n",
        "import tensorflow_datasets as tfds\n",
        "import tensorflow as tf"
      ],
      "execution_count": null,
      "outputs": []
    },
    {
      "cell_type": "markdown",
      "metadata": {
        "id": "WFM7XtD6fwnK"
      },
      "source": [
        "# Preprocessing the data\n",
        "You already learned that we have to tokenize the text before we can feed it into a neural network. This tokenization process will also remove some of the features of the original text, such as all punctuation or words that are less common."
      ]
    },
    {
      "cell_type": "markdown",
      "metadata": {
        "id": "uUmJuXFNLo5e"
      },
      "source": [
        "**Below is the AG News Dataset, which contains 120,000 dataset and 4 classes**"
      ]
    },
    {
      "cell_type": "code",
      "metadata": {
        "id": "ZLJjQkjRHvfd"
      },
      "source": [
        "dataset = tfds.load('ag_news_subset', split='train', shuffle_files=True, download=True)\n",
        "\n",
        "texts, target = [], []\n",
        "for example in dataset:\n",
        "  texts.append(example[\"description\"].numpy().decode('utf-8'))\n",
        "  target.append(example[\"label\"].numpy())\n",
        "\n",
        "target_names = ['world','sports','business','sci/tech']"
      ],
      "execution_count": null,
      "outputs": []
    },
    {
      "cell_type": "code",
      "metadata": {
        "id": "QYpYyZ5iVqH4",
        "colab": {
          "base_uri": "https://localhost:8080/",
          "height": 325
        },
        "outputId": "55874c42-2f6a-44ab-ca96-8185033bfaa8"
      },
      "source": [
        "print (target[:10])\n",
        "\n",
        "print (len(texts))\n",
        "print (len(target))\n",
        "print (len(texts[0].split()))\n",
        "print (texts[0])\n",
        "print (target[0])\n",
        "print (dataset.target_names[target[0]])"
      ],
      "execution_count": null,
      "outputs": [
        {
          "output_type": "stream",
          "name": "stdout",
          "text": [
            "[3, 1, 2, 3, 1, 0, 3, 0, 0, 1]\n",
            "120000\n",
            "120000\n",
            "20\n",
            "AMD #39;s new dual-core Opteron chip is designed mainly for corporate computing applications, including databases, Web services, and financial transactions.\n",
            "3\n"
          ]
        },
        {
          "output_type": "error",
          "ename": "AttributeError",
          "evalue": "ignored",
          "traceback": [
            "\u001b[0;31m---------------------------------------------------------------------------\u001b[0m",
            "\u001b[0;31mAttributeError\u001b[0m                            Traceback (most recent call last)",
            "\u001b[0;32m<ipython-input-53-c58f8781760e>\u001b[0m in \u001b[0;36m<cell line: 8>\u001b[0;34m()\u001b[0m\n\u001b[1;32m      6\u001b[0m \u001b[0mprint\u001b[0m \u001b[0;34m(\u001b[0m\u001b[0mtexts\u001b[0m\u001b[0;34m[\u001b[0m\u001b[0;36m0\u001b[0m\u001b[0;34m]\u001b[0m\u001b[0;34m)\u001b[0m\u001b[0;34m\u001b[0m\u001b[0;34m\u001b[0m\u001b[0m\n\u001b[1;32m      7\u001b[0m \u001b[0mprint\u001b[0m \u001b[0;34m(\u001b[0m\u001b[0mtarget\u001b[0m\u001b[0;34m[\u001b[0m\u001b[0;36m0\u001b[0m\u001b[0;34m]\u001b[0m\u001b[0;34m)\u001b[0m\u001b[0;34m\u001b[0m\u001b[0;34m\u001b[0m\u001b[0m\n\u001b[0;32m----> 8\u001b[0;31m \u001b[0mprint\u001b[0m \u001b[0;34m(\u001b[0m\u001b[0mdataset\u001b[0m\u001b[0;34m.\u001b[0m\u001b[0mtarget_names\u001b[0m\u001b[0;34m[\u001b[0m\u001b[0mtarget\u001b[0m\u001b[0;34m[\u001b[0m\u001b[0;36m0\u001b[0m\u001b[0;34m]\u001b[0m\u001b[0;34m]\u001b[0m\u001b[0;34m)\u001b[0m\u001b[0;34m\u001b[0m\u001b[0;34m\u001b[0m\u001b[0m\n\u001b[0m",
            "\u001b[0;31mAttributeError\u001b[0m: '_PrefetchDataset' object has no attribute 'target_names'"
          ]
        }
      ]
    },
    {
      "cell_type": "markdown",
      "metadata": {
        "id": "94ymzR5_gSWp"
      },
      "source": [
        "Remember we have to specify the size of our vocabulary. Words that are less frequent will get removed. In this case we want to retain the **10,000** most common words."
      ]
    },
    {
      "cell_type": "code",
      "metadata": {
        "id": "lBTD2yxWWhuW"
      },
      "source": [
        "vocab_size = 10000 #define the vocabulary size\n",
        "\n",
        "tokenizer = Tokenizer(num_words=vocab_size) # Setup tokenizer\n",
        "tokenizer.fit_on_texts(texts) #fitting the tokenizer on the data\n",
        "sequences = tokenizer.texts_to_sequences(texts) # Generate sequences"
      ],
      "execution_count": null,
      "outputs": []
    },
    {
      "cell_type": "code",
      "metadata": {
        "id": "ntT3kdOiWkYs",
        "colab": {
          "base_uri": "https://localhost:8080/"
        },
        "outputId": "c2e138d2-1a05-42c2-b84b-850f28198bd2"
      },
      "source": [
        "print (tokenizer.texts_to_sequences(['Hello King, how are you?']))\n",
        "\n",
        "print (len(sequences))\n",
        "print (len(sequences[0]))\n",
        "print (sequences[0])"
      ],
      "execution_count": null,
      "outputs": [
        {
          "output_type": "stream",
          "name": "stdout",
          "text": [
            "[[1544, 324, 33, 171]]\n",
            "120000\n",
            "22\n",
            "[1541, 9, 10, 21, 2452, 1752, 5047, 621, 17, 796, 4787, 8, 721, 1762, 995, 279, 7851, 249, 247, 6, 350, 6185]\n"
          ]
        }
      ]
    },
    {
      "cell_type": "code",
      "metadata": {
        "id": "MtrKOp1xWpix",
        "colab": {
          "base_uri": "https://localhost:8080/"
        },
        "outputId": "55889de9-918d-4e63-a4bc-f3256e4f0824"
      },
      "source": [
        "word_index = tokenizer.word_index\n",
        "print('Found {:,} unique words.'.format(len(word_index)))"
      ],
      "execution_count": null,
      "outputs": [
        {
          "output_type": "stream",
          "name": "stdout",
          "text": [
            "Found 63,738 unique words.\n"
          ]
        }
      ]
    },
    {
      "cell_type": "markdown",
      "metadata": {
        "id": "ykeKKvSbgY1Y"
      },
      "source": [
        "Our text is now converted to sequences of numbers. It makes sense to convert some of those sequences back into text to check what the tokenization did to our text. To this end we create an inverse index that maps numbers to words while the tokenizer maps words to numbers."
      ]
    },
    {
      "cell_type": "code",
      "metadata": {
        "id": "t2EmQGmYWrqL",
        "colab": {
          "base_uri": "https://localhost:8080/"
        },
        "outputId": "0667f35d-86a2-477c-bbef-c1f4ab017fd9"
      },
      "source": [
        "# Create inverse index mapping numbers to words\n",
        "inv_index = {v: k for k, v in tokenizer.word_index.items()}\n",
        "\n",
        "# Print out text again\n",
        "for w in sequences[0]:\n",
        "    x = inv_index.get(w)\n",
        "    print(x,end = ' ')"
      ],
      "execution_count": null,
      "outputs": [
        {
          "output_type": "stream",
          "name": "stdout",
          "text": [
            "amd 39 s new dual core opteron chip is designed mainly for corporate computing applications including databases web services and financial transactions "
          ]
        }
      ]
    },
    {
      "cell_type": "markdown",
      "metadata": {
        "id": "pBNHmDpBf0H_"
      },
      "source": [
        "# Measuring text length\n",
        "Let's ensure all sequences have the same length."
      ]
    },
    {
      "cell_type": "code",
      "metadata": {
        "id": "EJ8W0xMhWtKB",
        "colab": {
          "base_uri": "https://localhost:8080/"
        },
        "outputId": "17641631-ca48-4864-89c6-56e4080fa5d3"
      },
      "source": [
        "# Get the average length of a text\n",
        "avg = sum(map(len, sequences)) / len(sequences)\n",
        "\n",
        "# Get the standard deviation of the sequence length\n",
        "std = np.sqrt(sum(map(lambda x: (len(x) - avg)**2, sequences)) / len(sequences))\n",
        "\n",
        "avg,std"
      ],
      "execution_count": null,
      "outputs": [
        {
          "output_type": "execute_result",
          "data": {
            "text/plain": [
              "(30.389458333333334, 10.466547371184697)"
            ]
          },
          "metadata": {},
          "execution_count": 58
        }
      ]
    },
    {
      "cell_type": "markdown",
      "metadata": {
        "id": "Sy156ffJgmgM"
      },
      "source": [
        "You can see, the average text is about 31 words long. However, the standard deviation is quite small which indicates that some texts are much shorter. We will restrict sequence length to 30 words. You should try out some different sequence lengths and experiment with processing time and accuracy gains."
      ]
    },
    {
      "cell_type": "code",
      "metadata": {
        "id": "qdmeYEG9WyuB",
        "colab": {
          "base_uri": "https://localhost:8080/"
        },
        "outputId": "25a51648-e98d-483c-ec66-bfae08f2c2e6"
      },
      "source": [
        "print(pad_sequences([[1,2,3]], maxlen=5))\n",
        "print(pad_sequences([[1,2,3,4,5,6]], maxlen=5))"
      ],
      "execution_count": null,
      "outputs": [
        {
          "output_type": "stream",
          "name": "stdout",
          "text": [
            "[[0 0 1 2 3]]\n",
            "[[2 3 4 5 6]]\n"
          ]
        }
      ]
    },
    {
      "cell_type": "code",
      "metadata": {
        "id": "zKsVc5t9W1Ek"
      },
      "source": [
        "max_length = 30 #set the maximum length of the each data\n",
        "data = pad_sequences(sequences, maxlen=max_length) #padding each data"
      ],
      "execution_count": null,
      "outputs": []
    },
    {
      "cell_type": "markdown",
      "metadata": {
        "id": "ZQ8Nn9WRf5sV"
      },
      "source": [
        "# Turning labels into One-Hot encodings\n",
        "Labels can quickly be encoded into one-hot vectors with Keras:"
      ]
    },
    {
      "cell_type": "code",
      "metadata": {
        "id": "mrdJ_9CTW6aF",
        "colab": {
          "base_uri": "https://localhost:8080/"
        },
        "outputId": "46f8891b-df69-423a-c8bb-ca3fde7a70ce"
      },
      "source": [
        "from keras.utils import to_categorical\n",
        "labels = to_categorical(np.asarray(target))\n",
        "print('Shape of data:', data.shape)\n",
        "print('Shape of labels:', labels.shape)\n",
        "\n",
        "print (target[0])\n",
        "print (labels[0])"
      ],
      "execution_count": null,
      "outputs": [
        {
          "output_type": "stream",
          "name": "stdout",
          "text": [
            "Shape of data: (120000, 30)\n",
            "Shape of labels: (120000, 4)\n",
            "3\n",
            "[0. 0. 0. 1.]\n"
          ]
        }
      ]
    },
    {
      "cell_type": "markdown",
      "metadata": {
        "id": "w4631NhFf7Z4"
      },
      "source": [
        "# Split dataset into training and testing data"
      ]
    },
    {
      "cell_type": "code",
      "metadata": {
        "id": "reS_GKUPW76h"
      },
      "source": [
        "train_size = int(len(data) * .8) #set training data size\n",
        "xtrain = data[:train_size]\n",
        "ytrain = labels[:train_size]\n",
        "\n",
        "xtest = data[train_size:]\n",
        "ytest = labels[train_size:]\n",
        "\n",
        "xtest_texts = texts[train_size:]"
      ],
      "execution_count": null,
      "outputs": []
    },
    {
      "cell_type": "code",
      "source": [
        "print(len(xtrain))\n",
        "print(len(xtest))"
      ],
      "metadata": {
        "colab": {
          "base_uri": "https://localhost:8080/"
        },
        "id": "zmEge_Y-akv9",
        "outputId": "d0cc5cda-d085-4b52-b119-743cf9dafb9d"
      },
      "execution_count": null,
      "outputs": [
        {
          "output_type": "stream",
          "name": "stdout",
          "text": [
            "96000\n",
            "24000\n"
          ]
        }
      ]
    },
    {
      "cell_type": "markdown",
      "metadata": {
        "id": "900biRGbgCLW"
      },
      "source": [
        "# Create Model (MLP)"
      ]
    },
    {
      "cell_type": "code",
      "metadata": {
        "id": "6xdQrWsmZ1hd",
        "colab": {
          "base_uri": "https://localhost:8080/"
        },
        "outputId": "213636b6-838b-45f3-8da8-aae0884ebcb0"
      },
      "source": [
        "modelNN = Sequential()\n",
        "modelNN.add(Input(shape=(max_length,)))\n",
        "modelNN.add(Activation('relu'))\n",
        "modelNN.add(Dense(64, activation='sigmoid'))\n",
        "modelNN.add(Dense(16, activation='sigmoid'))\n",
        "modelNN.add(Dense(4, activation='softmax'))\n",
        "modelNN.summary()"
      ],
      "execution_count": null,
      "outputs": [
        {
          "output_type": "stream",
          "name": "stdout",
          "text": [
            "Model: \"sequential_3\"\n",
            "_________________________________________________________________\n",
            " Layer (type)                Output Shape              Param #   \n",
            "=================================================================\n",
            " activation (Activation)     (None, 30)                0         \n",
            "                                                                 \n",
            " dense (Dense)               (None, 64)                1984      \n",
            "                                                                 \n",
            " dense_1 (Dense)             (None, 16)                1040      \n",
            "                                                                 \n",
            " dense_2 (Dense)             (None, 4)                 68        \n",
            "                                                                 \n",
            "=================================================================\n",
            "Total params: 3,092\n",
            "Trainable params: 3,092\n",
            "Non-trainable params: 0\n",
            "_________________________________________________________________\n"
          ]
        }
      ]
    },
    {
      "cell_type": "code",
      "metadata": {
        "id": "mqupyH-9Z5ax",
        "colab": {
          "base_uri": "https://localhost:8080/"
        },
        "outputId": "e4139cce-7a82-4ef1-920e-d4c8846b85c9"
      },
      "source": [
        "modelNN.compile(optimizer='adam',\n",
        "                        loss='categorical_crossentropy',\n",
        "                        metrics=[categorical_accuracy])\n",
        "\n",
        "histNN = modelNN.fit(xtrain,ytrain,validation_split=0.2,epochs=10)"
      ],
      "execution_count": null,
      "outputs": [
        {
          "output_type": "stream",
          "name": "stdout",
          "text": [
            "Epoch 1/10\n",
            "2400/2400 [==============================] - 8s 3ms/step - loss: 1.3841 - categorical_accuracy: 0.2728 - val_loss: 1.3839 - val_categorical_accuracy: 0.2744\n",
            "Epoch 2/10\n",
            "2400/2400 [==============================] - 6s 2ms/step - loss: 1.3804 - categorical_accuracy: 0.2813 - val_loss: 1.3821 - val_categorical_accuracy: 0.2832\n",
            "Epoch 3/10\n",
            "2400/2400 [==============================] - 7s 3ms/step - loss: 1.3791 - categorical_accuracy: 0.2886 - val_loss: 1.3795 - val_categorical_accuracy: 0.2831\n",
            "Epoch 4/10\n",
            "2400/2400 [==============================] - 7s 3ms/step - loss: 1.3781 - categorical_accuracy: 0.2881 - val_loss: 1.3794 - val_categorical_accuracy: 0.2886\n",
            "Epoch 5/10\n",
            "2400/2400 [==============================] - 7s 3ms/step - loss: 1.3774 - categorical_accuracy: 0.2904 - val_loss: 1.3799 - val_categorical_accuracy: 0.2831\n",
            "Epoch 6/10\n",
            "2400/2400 [==============================] - 6s 2ms/step - loss: 1.3766 - categorical_accuracy: 0.2900 - val_loss: 1.3779 - val_categorical_accuracy: 0.2903\n",
            "Epoch 7/10\n",
            "2400/2400 [==============================] - 7s 3ms/step - loss: 1.3761 - categorical_accuracy: 0.2911 - val_loss: 1.3779 - val_categorical_accuracy: 0.2919\n",
            "Epoch 8/10\n",
            "2400/2400 [==============================] - 6s 2ms/step - loss: 1.3755 - categorical_accuracy: 0.2877 - val_loss: 1.3781 - val_categorical_accuracy: 0.2860\n",
            "Epoch 9/10\n",
            "2400/2400 [==============================] - 7s 3ms/step - loss: 1.3755 - categorical_accuracy: 0.2892 - val_loss: 1.3767 - val_categorical_accuracy: 0.2895\n",
            "Epoch 10/10\n",
            "2400/2400 [==============================] - 6s 2ms/step - loss: 1.3750 - categorical_accuracy: 0.2913 - val_loss: 1.3750 - val_categorical_accuracy: 0.2894\n"
          ]
        }
      ]
    },
    {
      "cell_type": "markdown",
      "metadata": {
        "id": "pEvnTmrdgD2k"
      },
      "source": [
        "# Create Model (Simple RNN)"
      ]
    },
    {
      "cell_type": "code",
      "metadata": {
        "id": "bGgTRLytXQ44",
        "colab": {
          "base_uri": "https://localhost:8080/"
        },
        "outputId": "c16fb045-7ea5-4de6-8a40-5dafeb2ba354"
      },
      "source": [
        "modelRNN = Sequential()\n",
        "modelRNN.add(Embedding(input_dim=vocab_size,\n",
        "                       output_dim=32,\n",
        "                       input_length=max_length,\n",
        "                       trainable=True))\n",
        "modelRNN.add(SimpleRNN(32))\n",
        "modelRNN.add(Dense(4, activation='softmax'))\n",
        "modelRNN.summary()"
      ],
      "execution_count": null,
      "outputs": [
        {
          "output_type": "stream",
          "name": "stdout",
          "text": [
            "Model: \"sequential_4\"\n",
            "_________________________________________________________________\n",
            " Layer (type)                Output Shape              Param #   \n",
            "=================================================================\n",
            " embedding (Embedding)       (None, 30, 32)            320000    \n",
            "                                                                 \n",
            " simple_rnn (SimpleRNN)      (None, 32)                2080      \n",
            "                                                                 \n",
            " dense_3 (Dense)             (None, 4)                 132       \n",
            "                                                                 \n",
            "=================================================================\n",
            "Total params: 322,212\n",
            "Trainable params: 322,212\n",
            "Non-trainable params: 0\n",
            "_________________________________________________________________\n"
          ]
        }
      ]
    },
    {
      "cell_type": "code",
      "metadata": {
        "id": "pAwFCrupXeVt",
        "colab": {
          "base_uri": "https://localhost:8080/"
        },
        "outputId": "1126448f-f5cc-4b5b-ed37-72b825890af5"
      },
      "source": [
        "# https://stackoverflow.com/questions/42081257/keras-binary-crossentropy-vs-categorical-crossentropy-performance\n",
        "modelRNN.compile(loss='categorical_crossentropy', optimizer='adam', metrics=[categorical_accuracy])\n",
        "\n",
        "histRNN = modelRNN.fit(xtrain, ytrain, validation_split=0.2, epochs=2)"
      ],
      "execution_count": null,
      "outputs": [
        {
          "output_type": "stream",
          "name": "stdout",
          "text": [
            "Epoch 1/2\n",
            "2400/2400 [==============================] - 38s 15ms/step - loss: 0.5164 - categorical_accuracy: 0.8046 - val_loss: 0.3808 - val_categorical_accuracy: 0.8796\n",
            "Epoch 2/2\n",
            "2400/2400 [==============================] - 38s 16ms/step - loss: 0.2941 - categorical_accuracy: 0.9032 - val_loss: 0.3496 - val_categorical_accuracy: 0.8861\n"
          ]
        }
      ]
    },
    {
      "cell_type": "markdown",
      "metadata": {
        "id": "9_3xMISOn4l9"
      },
      "source": [
        "# Create Model (LSTM)"
      ]
    },
    {
      "cell_type": "code",
      "metadata": {
        "id": "tmp0dc3Uk3qt"
      },
      "source": [
        "from keras.layers import LSTM"
      ],
      "execution_count": null,
      "outputs": []
    },
    {
      "cell_type": "code",
      "metadata": {
        "id": "Q3C00Obhk53T",
        "colab": {
          "base_uri": "https://localhost:8080/"
        },
        "outputId": "06c319db-15cb-4dc4-e1d7-ec582527db10"
      },
      "source": [
        "modelLSTM = Sequential()\n",
        "modelLSTM.add(LSTM(8,input_shape=(5,1),return_sequences=False)) #True = many to many\n",
        "modelLSTM.add(Dense(2,kernel_initializer='normal',activation='linear'))\n",
        "modelLSTM.add(Dense(1,kernel_initializer='normal',activation='linear'))\n",
        "modelLSTM.summary()"
      ],
      "execution_count": null,
      "outputs": [
        {
          "output_type": "stream",
          "name": "stdout",
          "text": [
            "Model: \"sequential_7\"\n",
            "_________________________________________________________________\n",
            " Layer (type)                Output Shape              Param #   \n",
            "=================================================================\n",
            " lstm (LSTM)                 (None, 8)                 320       \n",
            "                                                                 \n",
            " dense_6 (Dense)             (None, 2)                 18        \n",
            "                                                                 \n",
            " dense_7 (Dense)             (None, 1)                 3         \n",
            "                                                                 \n",
            "=================================================================\n",
            "Total params: 341\n",
            "Trainable params: 341\n",
            "Non-trainable params: 0\n",
            "_________________________________________________________________\n"
          ]
        }
      ]
    },
    {
      "cell_type": "code",
      "metadata": {
        "id": "xo0-6PWUlG9b",
        "colab": {
          "base_uri": "https://localhost:8080/",
          "height": 624
        },
        "outputId": "8274c49b-63a5-4762-e25e-da2ebb756e56"
      },
      "source": [
        "# https://stackoverflow.com/questions/42081257/keras-binary-crossentropy-vs-categorical-crossentropy-performance\n",
        "modelLSTM.compile(loss='categorical_crossentropy', optimizer='adam', metrics=[categorical_accuracy])\n",
        "\n",
        "histLSTM = modelLSTM.fit(xtrain, ytrain, validation_split=0.2, epochs=2)"
      ],
      "execution_count": null,
      "outputs": [
        {
          "output_type": "stream",
          "name": "stdout",
          "text": [
            "Epoch 1/2\n"
          ]
        },
        {
          "output_type": "error",
          "ename": "ValueError",
          "evalue": "ignored",
          "traceback": [
            "\u001b[0;31m---------------------------------------------------------------------------\u001b[0m",
            "\u001b[0;31mValueError\u001b[0m                                Traceback (most recent call last)",
            "\u001b[0;32m<ipython-input-84-acf371d1c67e>\u001b[0m in \u001b[0;36m<cell line: 4>\u001b[0;34m()\u001b[0m\n\u001b[1;32m      2\u001b[0m \u001b[0mmodelLSTM\u001b[0m\u001b[0;34m.\u001b[0m\u001b[0mcompile\u001b[0m\u001b[0;34m(\u001b[0m\u001b[0mloss\u001b[0m\u001b[0;34m=\u001b[0m\u001b[0;34m'categorical_crossentropy'\u001b[0m\u001b[0;34m,\u001b[0m \u001b[0moptimizer\u001b[0m\u001b[0;34m=\u001b[0m\u001b[0;34m'adam'\u001b[0m\u001b[0;34m,\u001b[0m \u001b[0mmetrics\u001b[0m\u001b[0;34m=\u001b[0m\u001b[0;34m[\u001b[0m\u001b[0mcategorical_accuracy\u001b[0m\u001b[0;34m]\u001b[0m\u001b[0;34m)\u001b[0m\u001b[0;34m\u001b[0m\u001b[0;34m\u001b[0m\u001b[0m\n\u001b[1;32m      3\u001b[0m \u001b[0;34m\u001b[0m\u001b[0m\n\u001b[0;32m----> 4\u001b[0;31m \u001b[0mhistLSTM\u001b[0m \u001b[0;34m=\u001b[0m \u001b[0mmodelLSTM\u001b[0m\u001b[0;34m.\u001b[0m\u001b[0mfit\u001b[0m\u001b[0;34m(\u001b[0m\u001b[0mxtrain\u001b[0m\u001b[0;34m,\u001b[0m \u001b[0mytrain\u001b[0m\u001b[0;34m,\u001b[0m \u001b[0mvalidation_split\u001b[0m\u001b[0;34m=\u001b[0m\u001b[0;36m0.2\u001b[0m\u001b[0;34m,\u001b[0m \u001b[0mepochs\u001b[0m\u001b[0;34m=\u001b[0m\u001b[0;36m2\u001b[0m\u001b[0;34m)\u001b[0m\u001b[0;34m\u001b[0m\u001b[0;34m\u001b[0m\u001b[0m\n\u001b[0m",
            "\u001b[0;32m/usr/local/lib/python3.9/dist-packages/keras/utils/traceback_utils.py\u001b[0m in \u001b[0;36merror_handler\u001b[0;34m(*args, **kwargs)\u001b[0m\n\u001b[1;32m     68\u001b[0m             \u001b[0;31m# To get the full stack trace, call:\u001b[0m\u001b[0;34m\u001b[0m\u001b[0;34m\u001b[0m\u001b[0m\n\u001b[1;32m     69\u001b[0m             \u001b[0;31m# `tf.debugging.disable_traceback_filtering()`\u001b[0m\u001b[0;34m\u001b[0m\u001b[0;34m\u001b[0m\u001b[0m\n\u001b[0;32m---> 70\u001b[0;31m             \u001b[0;32mraise\u001b[0m \u001b[0me\u001b[0m\u001b[0;34m.\u001b[0m\u001b[0mwith_traceback\u001b[0m\u001b[0;34m(\u001b[0m\u001b[0mfiltered_tb\u001b[0m\u001b[0;34m)\u001b[0m \u001b[0;32mfrom\u001b[0m \u001b[0;32mNone\u001b[0m\u001b[0;34m\u001b[0m\u001b[0;34m\u001b[0m\u001b[0m\n\u001b[0m\u001b[1;32m     71\u001b[0m         \u001b[0;32mfinally\u001b[0m\u001b[0;34m:\u001b[0m\u001b[0;34m\u001b[0m\u001b[0;34m\u001b[0m\u001b[0m\n\u001b[1;32m     72\u001b[0m             \u001b[0;32mdel\u001b[0m \u001b[0mfiltered_tb\u001b[0m\u001b[0;34m\u001b[0m\u001b[0;34m\u001b[0m\u001b[0m\n",
            "\u001b[0;32m/usr/local/lib/python3.9/dist-packages/keras/engine/training.py\u001b[0m in \u001b[0;36mtf__train_function\u001b[0;34m(iterator)\u001b[0m\n\u001b[1;32m     13\u001b[0m                 \u001b[0;32mtry\u001b[0m\u001b[0;34m:\u001b[0m\u001b[0;34m\u001b[0m\u001b[0;34m\u001b[0m\u001b[0m\n\u001b[1;32m     14\u001b[0m                     \u001b[0mdo_return\u001b[0m \u001b[0;34m=\u001b[0m \u001b[0;32mTrue\u001b[0m\u001b[0;34m\u001b[0m\u001b[0;34m\u001b[0m\u001b[0m\n\u001b[0;32m---> 15\u001b[0;31m                     \u001b[0mretval_\u001b[0m \u001b[0;34m=\u001b[0m \u001b[0mag__\u001b[0m\u001b[0;34m.\u001b[0m\u001b[0mconverted_call\u001b[0m\u001b[0;34m(\u001b[0m\u001b[0mag__\u001b[0m\u001b[0;34m.\u001b[0m\u001b[0mld\u001b[0m\u001b[0;34m(\u001b[0m\u001b[0mstep_function\u001b[0m\u001b[0;34m)\u001b[0m\u001b[0;34m,\u001b[0m \u001b[0;34m(\u001b[0m\u001b[0mag__\u001b[0m\u001b[0;34m.\u001b[0m\u001b[0mld\u001b[0m\u001b[0;34m(\u001b[0m\u001b[0mself\u001b[0m\u001b[0;34m)\u001b[0m\u001b[0;34m,\u001b[0m \u001b[0mag__\u001b[0m\u001b[0;34m.\u001b[0m\u001b[0mld\u001b[0m\u001b[0;34m(\u001b[0m\u001b[0miterator\u001b[0m\u001b[0;34m)\u001b[0m\u001b[0;34m)\u001b[0m\u001b[0;34m,\u001b[0m \u001b[0;32mNone\u001b[0m\u001b[0;34m,\u001b[0m \u001b[0mfscope\u001b[0m\u001b[0;34m)\u001b[0m\u001b[0;34m\u001b[0m\u001b[0;34m\u001b[0m\u001b[0m\n\u001b[0m\u001b[1;32m     16\u001b[0m                 \u001b[0;32mexcept\u001b[0m\u001b[0;34m:\u001b[0m\u001b[0;34m\u001b[0m\u001b[0;34m\u001b[0m\u001b[0m\n\u001b[1;32m     17\u001b[0m                     \u001b[0mdo_return\u001b[0m \u001b[0;34m=\u001b[0m \u001b[0;32mFalse\u001b[0m\u001b[0;34m\u001b[0m\u001b[0;34m\u001b[0m\u001b[0m\n",
            "\u001b[0;31mValueError\u001b[0m: in user code:\n\n    File \"/usr/local/lib/python3.9/dist-packages/keras/engine/training.py\", line 1284, in train_function  *\n        return step_function(self, iterator)\n    File \"/usr/local/lib/python3.9/dist-packages/keras/engine/training.py\", line 1268, in step_function  **\n        outputs = model.distribute_strategy.run(run_step, args=(data,))\n    File \"/usr/local/lib/python3.9/dist-packages/keras/engine/training.py\", line 1249, in run_step  **\n        outputs = model.train_step(data)\n    File \"/usr/local/lib/python3.9/dist-packages/keras/engine/training.py\", line 1050, in train_step\n        y_pred = self(x, training=True)\n    File \"/usr/local/lib/python3.9/dist-packages/keras/utils/traceback_utils.py\", line 70, in error_handler\n        raise e.with_traceback(filtered_tb) from None\n    File \"/usr/local/lib/python3.9/dist-packages/keras/engine/input_spec.py\", line 298, in assert_input_compatibility\n        raise ValueError(\n\n    ValueError: Input 0 of layer \"sequential_7\" is incompatible with the layer: expected shape=(None, 5, 1), found shape=(32, 30)\n"
          ]
        }
      ]
    },
    {
      "cell_type": "markdown",
      "metadata": {
        "id": "oRTkrMzggGKU"
      },
      "source": [
        "# Create Model (CNN)"
      ]
    },
    {
      "cell_type": "code",
      "metadata": {
        "id": "56-7KPpSX0CA",
        "colab": {
          "base_uri": "https://localhost:8080/"
        },
        "outputId": "85856af2-8983-41e8-a04f-049168a3bcd2"
      },
      "source": [
        "modelCNN = Sequential()\n",
        "modelCNN.add(Embedding(input_dim=vocab_size,\n",
        "                       output_dim=32,\n",
        "                       input_length=max_length,\n",
        "                       trainable=True))\n",
        "modelCNN.add(Conv1D(64, 2, activation='relu'))\n",
        "modelCNN.add(MaxPooling1D(2))\n",
        "modelCNN.add(Conv1D(64, 2, activation='relu'))\n",
        "modelCNN.add(MaxPooling1D(2))\n",
        "modelCNN.add(Conv1D(64, 2, activation='relu'))\n",
        "modelCNN.add(MaxPooling1D(2))\n",
        "modelCNN.add(Flatten())\n",
        "modelCNN.add(Dense(32, activation='softmax'))\n",
        "modelCNN.add(Dense(4, activation='softmax'))\n",
        "modelCNN.summary()"
      ],
      "execution_count": null,
      "outputs": [
        {
          "output_type": "stream",
          "name": "stdout",
          "text": [
            "Model: \"sequential_5\"\n",
            "_________________________________________________________________\n",
            " Layer (type)                Output Shape              Param #   \n",
            "=================================================================\n",
            " embedding_1 (Embedding)     (None, 30, 32)            320000    \n",
            "                                                                 \n",
            " conv1d (Conv1D)             (None, 29, 64)            4160      \n",
            "                                                                 \n",
            " max_pooling1d (MaxPooling1D  (None, 14, 64)           0         \n",
            " )                                                               \n",
            "                                                                 \n",
            " conv1d_1 (Conv1D)           (None, 13, 64)            8256      \n",
            "                                                                 \n",
            " max_pooling1d_1 (MaxPooling  (None, 6, 64)            0         \n",
            " 1D)                                                             \n",
            "                                                                 \n",
            " conv1d_2 (Conv1D)           (None, 5, 64)             8256      \n",
            "                                                                 \n",
            " max_pooling1d_2 (MaxPooling  (None, 2, 64)            0         \n",
            " 1D)                                                             \n",
            "                                                                 \n",
            " flatten (Flatten)           (None, 128)               0         \n",
            "                                                                 \n",
            " dense_4 (Dense)             (None, 32)                4128      \n",
            "                                                                 \n",
            " dense_5 (Dense)             (None, 4)                 132       \n",
            "                                                                 \n",
            "=================================================================\n",
            "Total params: 344,932\n",
            "Trainable params: 344,932\n",
            "Non-trainable params: 0\n",
            "_________________________________________________________________\n"
          ]
        }
      ]
    },
    {
      "cell_type": "code",
      "metadata": {
        "colab": {
          "base_uri": "https://localhost:8080/"
        },
        "id": "8OraTretaJYq",
        "outputId": "01ca5f60-9d0d-4ff9-d226-7d74b581a139"
      },
      "source": [
        "# https://stackoverflow.com/questions/42081257/keras-binary-crossentropy-vs-categorical-crossentropy-performance\n",
        "modelCNN.compile(loss='categorical_crossentropy', optimizer='adam', metrics=[categorical_accuracy])\n",
        "\n",
        "histCNN = modelCNN.fit(xtrain, ytrain, validation_split=0.2, epochs=2)"
      ],
      "execution_count": null,
      "outputs": [
        {
          "output_type": "stream",
          "name": "stdout",
          "text": [
            "Epoch 1/2\n",
            "2400/2400 [==============================] - 34s 13ms/step - loss: 0.8499 - categorical_accuracy: 0.6629 - val_loss: 0.5217 - val_categorical_accuracy: 0.8506\n",
            "Epoch 2/2\n",
            "2400/2400 [==============================] - 34s 14ms/step - loss: 0.4145 - categorical_accuracy: 0.8769 - val_loss: 0.4174 - val_categorical_accuracy: 0.8660\n"
          ]
        }
      ]
    },
    {
      "cell_type": "markdown",
      "metadata": {
        "id": "lNNntQmpgyFw"
      },
      "source": [
        "Our model achieves 66% accuracy on the validation set. Systems like these can be used to assign emails in customer support centers, suggest responses, or classify other forms of text like invoices which need to be assigned to an department. Let's take a look at how our model classified one of the texts:"
      ]
    },
    {
      "cell_type": "code",
      "metadata": {
        "id": "lEWX8oOgAABX",
        "colab": {
          "base_uri": "https://localhost:8080/",
          "height": 881
        },
        "outputId": "8caa505c-e34b-4610-f069-803782545541"
      },
      "source": [
        "import matplotlib.pyplot as plt\n",
        "\n",
        "def plot_graphs(history, string):\n",
        "  plt.plot(history.history[string])\n",
        "  plt.plot(history.history['val_'+string])\n",
        "  plt.xlabel(\"Epochs\")\n",
        "  plt.ylabel(string)\n",
        "  plt.legend([string, 'val_'+string])\n",
        "  plt.show()\n",
        "  \n",
        "plot_graphs(histNN, \"categorical_accuracy\")\n",
        "plot_graphs(histNN, \"loss\")"
      ],
      "execution_count": null,
      "outputs": [
        {
          "output_type": "display_data",
          "data": {
            "text/plain": [
              "<Figure size 640x480 with 1 Axes>"
            ],
            "image/png": "[encoded data removed]"
          },
          "metadata": {}
        },
        {
          "output_type": "display_data",
          "data": {
            "text/plain": [
              "<Figure size 640x480 with 1 Axes>"
            ],
            "image/png": "[encoded data removed]"
          },
          "metadata": {}
        }
      ]
    },
    {
      "cell_type": "markdown",
      "metadata": {
        "id": "26vrcx0PgJsN"
      },
      "source": [
        "# Example Prediction"
      ]
    },
    {
      "cell_type": "code",
      "metadata": {
        "id": "SeTojVepe1yF",
        "colab": {
          "base_uri": "https://localhost:8080/"
        },
        "outputId": "7d66d811-8fcd-43a9-c5b1-df49488db2bb"
      },
      "source": [
        "example = xtest[1000] # get the tokens\n",
        "print (xtest_texts[1000])\n",
        "\n",
        "# Print tokens as text\n",
        "for w in example:\n",
        "    x = inv_index.get(w)\n",
        "    print(x,end = ' ')"
      ],
      "execution_count": null,
      "outputs": [
        {
          "output_type": "stream",
          "name": "stdout",
          "text": [
            "Despite walloping Colorado State, 63-31, to extend their record to a school-best 9-0, the Utes watch their ranking in the Bowl Championships Series standings drop a spot to seventh.\n",
            "despite colorado state 63 31 to extend their record to a school best 9 0 the watch their ranking in the bowl championships series standings drop a spot to seventh "
          ]
        }
      ]
    },
    {
      "cell_type": "code",
      "metadata": {
        "id": "X-zCjoxbaLrX",
        "colab": {
          "base_uri": "https://localhost:8080/"
        },
        "outputId": "611f4ae3-c47d-4fa3-edec-4d489aa95eb9"
      },
      "source": [
        "# Get prediction\n",
        "pred = modelCNN.predict(example.reshape(1,30))"
      ],
      "execution_count": null,
      "outputs": [
        {
          "output_type": "stream",
          "name": "stdout",
          "text": [
            "1/1 [==============================] - 0s 156ms/step\n"
          ]
        }
      ]
    },
    {
      "cell_type": "code",
      "metadata": {
        "id": "lK6m8IUMdTZu",
        "colab": {
          "base_uri": "https://localhost:8080/",
          "height": 35
        },
        "outputId": "0232fcd6-cb13-4d04-95bc-fd793ec9ddfe"
      },
      "source": [
        "# Output predicted category\n",
        "target_names[np.argmax(pred)]"
      ],
      "execution_count": null,
      "outputs": [
        {
          "output_type": "execute_result",
          "data": {
            "text/plain": [
              "'sports'"
            ],
            "application/vnd.google.colaboratory.intrinsic+json": {
              "type": "string"
            }
          },
          "metadata": {},
          "execution_count": 79
        }
      ]
    }
  ]
}